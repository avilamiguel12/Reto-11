{
  "nbformat": 4,
  "nbformat_minor": 0,
  "metadata": {
    "colab": {
      "provenance": []
    },
    "kernelspec": {
      "name": "python3",
      "display_name": "Python 3"
    },
    "language_info": {
      "name": "python"
    }
  },
  "cells": [
    {
      "cell_type": "markdown",
      "source": [
        "#Métodos de Strings en Python\n",
        "**endswith(suffix):**\n",
        "Este método verifica si una cadena termina con el sufijo proporcionado.\n",
        "\n",
        "**startswith(prefix):**\n",
        "Verifica si la cadena comienza con el prefijo proporcionado.\n",
        "\n",
        "**isalpha():** Verifica si todos los caracteres son letras\n",
        "\n",
        "**isalnum():** Verifica si todos los caracteres son alfanuméricos (letras y números)\n",
        "\n",
        "**isdigit():** Verifica si todos los caracteres son números\n",
        "\n",
        "**isspace():** Verifica si todos los caracteres son espacios en blanco\n",
        "\n",
        "**istitle():** Verifica si la cadena está en formato título (primera letra de cada palabra en mayúscula)\n",
        "\n",
        "**islower():** Verifica si todos los caracteres están en minúscula\n",
        "\n",
        "**isupper():** Verifica si todos los caracteres están en mayúscula"
      ],
      "metadata": {
        "id": "Yqkxvu-k5I2U"
      }
    },
    {
      "cell_type": "code",
      "execution_count": 21,
      "metadata": {
        "colab": {
          "base_uri": "https://localhost:8080/"
        },
        "id": "_VG8xIxzjxN8",
        "outputId": "5b609b58-4556-421e-ea89-abd3baaef5f2"
      },
      "outputs": [
        {
          "output_type": "stream",
          "name": "stdout",
          "text": [
            "\n",
            "Total de vocales: 1597835\n",
            "\n",
            "Total de consonantes: 2612121\n",
            "\n",
            "Palabras más comunes:\n",
            "'2007': 20413\n",
            "'from': 18126\n",
            "'by': 18028\n",
            "'received:': 16173\n",
            "'with': 12756\n",
            "'id': 12607\n",
            "'-0500': 11774\n",
            "'dec': 9267\n",
            "'nov': 8988\n",
            "'for': 7714\n",
            "'esmtp': 7188\n",
            "'nakamura.uits.iupui.edu': 7188\n",
            "'paploo.uhi.ac.uk': 7188\n",
            "'<source@collab.sakaiproject.org>;': 5391\n",
            "'charset=utf-8': 5391\n",
            "'text/plain;': 5391\n",
            "'(gmt)': 4932\n",
            "'+0000': 4932\n",
            "'oct': 4164\n",
            "'you': 3621\n",
            "'(cyrus': 3594\n",
            "'(localhost': 3594\n",
            "'(postfix)': 3594\n",
            "'[127.0.0.1])': 3594\n",
            "'lmtpa;': 3594\n",
            "'murder': 3594\n",
            "'smtp': 3594\n",
            "'date:': 3587\n",
            "'thu,': 3534\n",
            "'tue,': 3305\n",
            "'fri,': 2964\n",
            "'-0400': 2910\n",
            "'to': 2767\n",
            "'mon,': 2704\n",
            "'wed,': 2582\n",
            "'the': 2544\n",
            "'svn': 2528\n",
            "'-': 2037\n",
            "'2007)': 2032\n",
            "'modify': 1884\n",
            "'new': 1877\n",
            "'this': 1877\n",
            "'message': 1839\n",
            "'29': 1834\n",
            "'was': 1834\n",
            "'sakai': 1823\n",
            "'at': 1822\n",
            "'can': 1821\n",
            "'using': 1821\n",
            "'set': 1812\n"
          ]
        }
      ],
      "source": [
        "import urllib.request\n",
        "import math\n",
        "def leer_url(url):\n",
        "    try:\n",
        "        headers = {\n",
        "            'User-Agent': 'Mozilla/5.0 (Windows NT 10.0; Win64; x64) '\n",
        "                         'AppleWebKit/537.36 (KHTML, like Gecko) '\n",
        "                         'Chrome/91.0.4472.124 Safari/537.36'\n",
        "        }\n",
        "        a = urllib.request.Request(url, headers=headers)\n",
        "\n",
        "        with urllib.request.urlopen(a) as respuesta:\n",
        "            return respuesta.read().decode('utf-8')\n",
        "    except Exception as e:\n",
        "        print(f\"Error al leer la URL: {str(e)}\")\n",
        "        return \"\"\n",
        "def contar_vocales(texto):\n",
        "  vocales=\"aeiou\"\n",
        "  contador_1=sum(texto.lower().count(v) for v in vocales)\n",
        "  return contador_1\n",
        "def contar_consonantes(texto):\n",
        "  consonantes=\"bcdfghjklmnñpqrstvwxyz\"\n",
        "  contador_2=  sum(texto.lower().count(c) for c in consonantes)\n",
        "  return contador_2\n",
        "def palabras_repetidas(texto,n=50):\n",
        "  palabras = texto.lower().split()\n",
        "  frecuencias = {}\n",
        "  for palabra in palabras:\n",
        "        frecuencias[palabra] = frecuencias.get(palabra, 0) + 1\n",
        "  mas_frecuentes = sorted(frecuencias.items(), key=lambda x: (-x[1], x[0]))[:n]\n",
        "  return mas_frecuentes\n",
        "\n",
        "def main():\n",
        "  url=\"https://www.py4e.com/code3/mbox.txt\"\n",
        "  texto=leer_url(url)\n",
        "  print(f\"\\nTotal de vocales: {contar_vocales(texto)}\")\n",
        "  print(f\"\\nTotal de consonantes: {contar_consonantes(texto)}\")\n",
        "  print(\"\\nPalabras más comunes:\")\n",
        "  for palabra, frecuencia in palabras_repetidas(texto):\n",
        "            print(f\"'{palabra}': {frecuencia}\")\n",
        "if __name__ == \"__main__\":\n",
        "     main()\n",
        "\n"
      ]
    }
  ]
}